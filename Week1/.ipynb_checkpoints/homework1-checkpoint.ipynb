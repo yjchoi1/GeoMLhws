{
 "cells": [
  {
   "cell_type": "markdown",
   "id": "ccbf0aeb",
   "metadata": {},
   "source": [
    "# HW1\n",
    "* Name: Yongjin Choi\n",
    "* EID: yc29276"
   ]
  },
  {
   "cell_type": "code",
   "execution_count": 2,
   "id": "c8bd49c5",
   "metadata": {},
   "outputs": [],
   "source": [
    "import math\n",
    "import numpy as np\n",
    "from matplotlib import pyplot as plt\n",
    "import pandas as pd\n",
    "import os\n",
    "from scipy.optimize import curve_fit"
   ]
  },
  {
   "cell_type": "markdown",
   "id": "23b2d1b2",
   "metadata": {},
   "source": [
    "## Problem 1-3"
   ]
  },
  {
   "cell_type": "markdown",
   "id": "c751fb1e",
   "metadata": {},
   "source": [
    "Define a class that returns `W` values corresponding to `t` values with defined `A` and `tau` values."
   ]
  },
  {
   "cell_type": "code",
   "execution_count": 29,
   "id": "89f5f222",
   "metadata": {},
   "outputs": [],
   "source": [
    "class W:\n",
    "    def __init__(self, A, tau):\n",
    "        self.A = A\n",
    "        self.tau = tau\n",
    "        \n",
    "    def Wt(self, t1=0, t2=2.1, interval=0.1):\n",
    "        t_values = np.arange(t1, t2, interval)\n",
    "        Wts = []\n",
    "        for t in t_values:\n",
    "            Wt = self.A*(math.exp(-t/self.tau) - 1 + t/self.tau)\n",
    "            Wts.append(Wt)\n",
    "        return t_values, Wts"
   ]
  },
  {
   "cell_type": "markdown",
   "id": "06c3d8a7",
   "metadata": {},
   "source": [
    "#### Problem 1"
   ]
  },
  {
   "cell_type": "code",
   "execution_count": 30,
   "id": "a601e5cf",
   "metadata": {},
   "outputs": [
    {
     "data": {
      "text/plain": [
       "[<matplotlib.lines.Line2D at 0x1bafd9c4f40>]"
      ]
     },
     "execution_count": 30,
     "metadata": {},
     "output_type": "execute_result"
    },
    {
     "data": {
      "image/png": "[encoded data removed]",
      "text/plain": [
       "<Figure size 432x288 with 1 Axes>"
      ]
     },
     "metadata": {
      "needs_background": "light"
     },
     "output_type": "display_data"
    }
   ],
   "source": [
    "W1 = W(A=1, tau=1)\n",
    "t1, w1 = W1.Wt()\n",
    "plt.plot(t1, w1)"
   ]
  },
  {
   "cell_type": "markdown",
   "id": "2a85735a",
   "metadata": {},
   "source": [
    "#### Problem 2-3"
   ]
  },
  {
   "cell_type": "code",
   "execution_count": 31,
   "id": "a71457e1",
   "metadata": {},
   "outputs": [
    {
     "data": {
      "image/png": "[encoded data removed]",
      "text/plain": [
       "<Figure size 432x288 with 1 Axes>"
      ]
     },
     "metadata": {
      "needs_background": "light"
     },
     "output_type": "display_data"
    }
   ],
   "source": [
    "W1 = W(A=1, tau=1)\n",
    "W2 = W(A=2, tau=2)\n",
    "W3 = W(A=5, tau=2)\n",
    "W4 = W(A=2, tau=5)\n",
    "\n",
    "t1, w1 = W1.Wt()\n",
    "t2, w2 = W2.Wt()\n",
    "t3, w3 = W3.Wt()\n",
    "t4, w4 = W4.Wt()\n",
    "\n",
    "plt.plot(t1, w1, 'r--', t2, w2, 'bs', t3, w3, 'g^', t4, w4, 'r-')\n",
    "plt.legend(['W1(A=1, tau=1)','W2(A=2, tau=2)','W3(A=5, tau=2)','W4(A=2, tau=5)'])\n",
    "plt.xlabel('t')\n",
    "plt.ylabel('W')\n",
    "plt.show()"
   ]
  },
  {
   "cell_type": "markdown",
   "id": "1fa9048b",
   "metadata": {},
   "source": [
    "**Problem 4**"
   ]
  },
  {
   "cell_type": "code",
   "execution_count": 40,
   "id": "4227da6a",
   "metadata": {},
   "outputs": [
    {
     "data": {
      "text/html": [
       "<div>\n",
       "<style scoped>\n",
       "    .dataframe tbody tr th:only-of-type {\n",
       "        vertical-align: middle;\n",
       "    }\n",
       "\n",
       "    .dataframe tbody tr th {\n",
       "        vertical-align: top;\n",
       "    }\n",
       "\n",
       "    .dataframe thead th {\n",
       "        text-align: right;\n",
       "    }\n",
       "</style>\n",
       "<table border=\"1\" class=\"dataframe\">\n",
       "  <thead>\n",
       "    <tr style=\"text-align: right;\">\n",
       "      <th></th>\n",
       "      <th>t</th>\n",
       "      <th>W</th>\n",
       "    </tr>\n",
       "  </thead>\n",
       "  <tbody>\n",
       "    <tr>\n",
       "      <th>0</th>\n",
       "      <td>2.3832</td>\n",
       "      <td>0.010900</td>\n",
       "    </tr>\n",
       "    <tr>\n",
       "      <th>1</th>\n",
       "      <td>2.7230</td>\n",
       "      <td>0.009343</td>\n",
       "    </tr>\n",
       "    <tr>\n",
       "      <th>2</th>\n",
       "      <td>3.0358</td>\n",
       "      <td>0.014600</td>\n",
       "    </tr>\n",
       "    <tr>\n",
       "      <th>3</th>\n",
       "      <td>3.5177</td>\n",
       "      <td>0.014500</td>\n",
       "    </tr>\n",
       "    <tr>\n",
       "      <th>4</th>\n",
       "      <td>4.0014</td>\n",
       "      <td>0.024200</td>\n",
       "    </tr>\n",
       "    <tr>\n",
       "      <th>5</th>\n",
       "      <td>4.5692</td>\n",
       "      <td>0.028600</td>\n",
       "    </tr>\n",
       "    <tr>\n",
       "      <th>6</th>\n",
       "      <td>5.0528</td>\n",
       "      <td>0.037600</td>\n",
       "    </tr>\n",
       "    <tr>\n",
       "      <th>7</th>\n",
       "      <td>5.5358</td>\n",
       "      <td>0.043500</td>\n",
       "    </tr>\n",
       "    <tr>\n",
       "      <th>8</th>\n",
       "      <td>6.4458</td>\n",
       "      <td>0.059200</td>\n",
       "    </tr>\n",
       "    <tr>\n",
       "      <th>9</th>\n",
       "      <td>7.5262</td>\n",
       "      <td>0.076400</td>\n",
       "    </tr>\n",
       "  </tbody>\n",
       "</table>\n",
       "</div>"
      ],
      "text/plain": [
       "        t         W\n",
       "0  2.3832  0.010900\n",
       "1  2.7230  0.009343\n",
       "2  3.0358  0.014600\n",
       "3  3.5177  0.014500\n",
       "4  4.0014  0.024200\n",
       "5  4.5692  0.028600\n",
       "6  5.0528  0.037600\n",
       "7  5.5358  0.043500\n",
       "8  6.4458  0.059200\n",
       "9  7.5262  0.076400"
      ]
     },
     "execution_count": 40,
     "metadata": {},
     "output_type": "execute_result"
    }
   ],
   "source": [
    "# Read data from the existing directory\n",
    "current_dir = os.path.abspath(os.getcwd())\n",
    "data_name = \"wt.csv\"\n",
    "data_dir = os.path.join(current_dir, data_name)\n",
    "df_w = pd.read_csv(data_dir, header = None)\n",
    "df_w.columns = ['t', 'W']\n",
    "df_w.head(10)"
   ]
  },
  {
   "cell_type": "code",
   "execution_count": 41,
   "id": "01c81b92",
   "metadata": {},
   "outputs": [],
   "source": [
    "def W_p4(t, A, tau):\n",
    "    return A*(math.exp(-t/tau) - 1 + t/tau)\n",
    "Wp5 = np.vectorize(Wp4)\n",
    "\n",
    "popt, pcov = curve_fit(Wp5, df_w['t'].to_numpy(), df_w['W'].to_numpy(), p0=[1, 1])\n",
    "\n",
    "A = popt[0]\n",
    "tau = popt[1]"
   ]
  },
  {
   "cell_type": "code",
   "execution_count": 42,
   "id": "b6b2b9c2",
   "metadata": {},
   "outputs": [
    {
     "data": {
      "text/plain": [
       "Text(0, 0.5, 'W')"
      ]
     },
     "execution_count": 42,
     "metadata": {},
     "output_type": "execute_result"
    },
    {
     "data": {
      "image/png": "[encoded data removed]",
      "text/plain": [
       "<Figure size 432x288 with 1 Axes>"
      ]
     },
     "metadata": {
      "needs_background": "light"
     },
     "output_type": "display_data"
    }
   ],
   "source": [
    "t2 = np.arange(1, 30, 0.1)\n",
    "W_fit = Wp5(t2, A = popt[0], tau = popt[1])\n",
    "\n",
    "plt.figure()\n",
    "plt.plot(df_w['t'], df_w['W'], '.')\n",
    "plt.plot(t2, W_fit)\n",
    "plt.legend(['data', f'fitted line (A={popt[0]:.3f}, tau={popt[1]:.3f})'])\n",
    "plt.xlabel('t')\n",
    "plt.ylabel('W')"
   ]
  }
 ],
 "metadata": {
  "kernelspec": {
   "display_name": "Python 3",
   "language": "python",
   "name": "python3"
  },
  "language_info": {
   "codemirror_mode": {
    "name": "ipython",
    "version": 3
   },
   "file_extension": ".py",
   "mimetype": "text/x-python",
   "name": "python",
   "nbconvert_exporter": "python",
   "pygments_lexer": "ipython3",
   "version": "3.8.8"
  }
 },
 "nbformat": 4,
 "nbformat_minor": 5
}
